{
 "cells": [
  {
   "cell_type": "code",
   "execution_count": 2,
   "id": "06461dfc",
   "metadata": {},
   "outputs": [],
   "source": [
    "import requests\n",
    "import json\n",
    "import os"
   ]
  },
  {
   "cell_type": "code",
   "execution_count": 22,
   "id": "06742d2f",
   "metadata": {},
   "outputs": [],
   "source": [
    "url = \"http://<IP>:<Port>\""
   ]
  },
  {
   "cell_type": "code",
   "execution_count": null,
   "id": "a494ea5d",
   "metadata": {},
   "outputs": [],
   "source": [
    "import requests\n",
    "import json\n",
    "import os"
   ]
  },
  {
   "cell_type": "code",
   "execution_count": 24,
   "id": "8051f01c",
   "metadata": {},
   "outputs": [],
   "source": [
    "def transcribe(file):\n",
    "    files = {os.path.basename(file): open(file,'rb')}\n",
    "\n",
    "    response = requests.post(url, files=files)\n",
    "    return json.loads(response.text)"
   ]
  },
  {
   "cell_type": "code",
   "execution_count": null,
   "id": "dbf1d44a",
   "metadata": {},
   "outputs": [],
   "source": [
    "response_json = transcribe(r\"<your file>.mp3\")"
   ]
  },
  {
   "cell_type": "code",
   "execution_count": null,
   "id": "af1c878a",
   "metadata": {},
   "outputs": [],
   "source": []
  }
 ],
 "metadata": {
  "kernelspec": {
   "display_name": "nlp_swifter",
   "language": "python",
   "name": "nlp_swifter"
  },
  "language_info": {
   "codemirror_mode": {
    "name": "ipython",
    "version": 3
   },
   "file_extension": ".py",
   "mimetype": "text/x-python",
   "name": "python",
   "nbconvert_exporter": "python",
   "pygments_lexer": "ipython3",
   "version": "3.10.6"
  }
 },
 "nbformat": 4,
 "nbformat_minor": 5
}
